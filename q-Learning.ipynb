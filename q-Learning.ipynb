{
 "cells": [
  {
   "cell_type": "markdown",
   "metadata": {},
   "source": [
    "参考：http://www.jonki.net/entry/2016/05/05/174519  \n",
    "本家：http://mnemstudio.org/path-finding-q-learning-tutorial.htm"
   ]
  },
  {
   "cell_type": "markdown",
   "metadata": {},
   "source": [
    "<img src=\"http://mnemstudio.org/ai/path/images/agent_clip_image002.gif\" width=500>"
   ]
  },
  {
   "cell_type": "markdown",
   "metadata": {},
   "source": [
    "<img src=\"http://cdn-ak.f.st-hatena.com/images/fotolife/j/jonki/20160505/20160505171911.png\" width=400>"
   ]
  },
  {
   "cell_type": "code",
   "execution_count": 3,
   "metadata": {},
   "outputs": [],
   "source": [
    "# -*- coding: utf-8 -*-\n",
    "\"\"\"\n",
    "Created on Thu May  5, 2016\n",
    "\n",
    "@author: jonki\n",
    "\"\"\"\n",
    "\n",
    "import numpy as np\n",
    "import random\n",
    "import sys\n",
    "\n",
    "# sample ref\n",
    "# http://mnemstudio.org/path-finding-q-learning-tutorial.htm\n",
    "\n",
    "# Reward matrix\n",
    "R = np.array([\n",
    "[-1, -1, -1, -1,  0,  -1],\n",
    "[-1, -1, -1,  0, -1, 100],\n",
    "[-1, -1, -1,  0, -1,  -1],\n",
    "[-1,  0,  0, -1,  0,  -1],\n",
    "[ 0, -1, -1,  0, -1, 100],\n",
    "[-1,  0, -1, -1,  0, 100]\n",
    "])\n",
    "\n",
    "# Initial Q-value\n",
    "Q = np.zeros((6,6))\n",
    "\n",
    "LEARNING_COUNT = 1000\n",
    "GAMMA = 0.8\n",
    "GOAL_STATE = 5\n",
    "\n",
    "class QLearning(object):\n",
    "    def __init__(self):\n",
    "        return\n",
    "        \n",
    "    def learn(self):\n",
    "        # set a start state randomly 0～5のランダムな数を取得して状態とする\n",
    "        state = self._getRandomState()\n",
    "        \n",
    "        # 学習される回数分ループさせる\n",
    "        for i in range(LEARNING_COUNT):        \n",
    "            # extract possible actions in state\n",
    "            possible_actions = self._getPossibleActionsFromState(state)  # 現在の位置から可能な行動を取得する\n",
    "            \n",
    "            # choise an action from possible actions randomly\n",
    "            action = random.choice(possible_actions)        \n",
    "            \n",
    "            # Update Q-value\n",
    "            # Q(s,a) = r(s,a) + Gamma * max[Q(next_s, possible_actions)]\n",
    "            next_state = action # in this example, action value is same as next state　例では行動＝次の状態となる\n",
    "            next_possible_actions = self._getPossibleActionsFromState(next_state)\n",
    "            max_Q_next_s_a = self._getMaxQvalueFromStateAndPossibleActions(next_state, next_possible_actions)\n",
    "            Q[state, action] = R[state, action] + GAMMA * max_Q_next_s_a\n",
    "            \n",
    "            state = next_state\n",
    "            \n",
    "            # If an agent reached a goal state, restart an episode from a random start state\n",
    "            if state == GOAL_STATE:\n",
    "                state = self._getRandomState()\n",
    "    \n",
    "    def _getRandomState(self):\n",
    "        return random.randint(0, R.shape[0] - 1)\n",
    "      \n",
    "    # 現在の位置から可能な行動を取得する\n",
    "    def _getPossibleActionsFromState(self, state):\n",
    "        # 禁則処理\n",
    "        if state < 0 or state >= R.shape[0]:\n",
    "            sys.exit(\"invaid state: %d\" % state)\n",
    "            \n",
    "        # R（報酬）が-1（行けない）ではない行動のインデックスを取得する\n",
    "        # メモ：np.whereは条件を満たすインデックスを取得する\n",
    "        return list(np.where(np.array(R[state] != -1)))[0]\n",
    "    \n",
    "    def _getMaxQvalueFromStateAndPossibleActions(self, state, possible_actions):\n",
    "        return max([Q[state][i] for i in (possible_actions)])\n",
    "            \n",
    "    def dumpQvalue(self):\n",
    "        print(Q.astype(int)) # convert float to int for redability\n",
    "\n",
    "    def runGreedy(self, start_state = 0):\n",
    "        print(\"===== START =====\")\n",
    "        state = start_state\n",
    "        while state != GOAL_STATE:\n",
    "            print(\"current state: %d\" % state)\n",
    "            possible_actions = self._getPossibleActionsFromState(state)\n",
    "            \n",
    "            # get best action which maximaizes Q-value(s, a)\n",
    "            max_Q = 0\n",
    "            best_action_candidates = []\n",
    "            for a in possible_actions:            \n",
    "                if Q[state][a] > max_Q:\n",
    "                    best_action_candidates = [a,]\n",
    "                    max_Q = Q[state][a]\n",
    "                elif Q[state][a] == max_Q:\n",
    "                    best_action_candidates.append(a)\n",
    "            \n",
    "            # get a best action from candidates randomly\n",
    "            best_action = random.choice(best_action_candidates)\n",
    "            print(\"-> choose action: %d\" % best_action)\n",
    "            state = best_action # in this example, action value is same as next state\n",
    "        print(\"state is %d, GOAL!!\" % state)\n",
    "            \n",
    "            "
   ]
  },
  {
   "cell_type": "code",
   "execution_count": 4,
   "metadata": {},
   "outputs": [
    {
     "name": "stdout",
     "output_type": "stream",
     "text": [
      "[[  0   0   0   0 350   0]\n",
      " [  0   0   0 280   0 460]\n",
      " [  0   0   0 280   0   0]\n",
      " [  0 350 224   0 350   0]\n",
      " [280   0   0 280   0 438]\n",
      " [  0 360   0   0 338 450]]\n",
      "===== START =====\n",
      "current state: 0\n",
      "-> choose action: 4\n",
      "current state: 4\n",
      "-> choose action: 5\n",
      "state is 5, GOAL!!\n",
      "===== START =====\n",
      "current state: 1\n",
      "-> choose action: 5\n",
      "state is 5, GOAL!!\n",
      "===== START =====\n",
      "current state: 2\n",
      "-> choose action: 3\n",
      "current state: 3\n",
      "-> choose action: 4\n",
      "current state: 4\n",
      "-> choose action: 5\n",
      "state is 5, GOAL!!\n",
      "===== START =====\n",
      "current state: 3\n",
      "-> choose action: 1\n",
      "current state: 1\n",
      "-> choose action: 5\n",
      "state is 5, GOAL!!\n",
      "===== START =====\n",
      "current state: 4\n",
      "-> choose action: 5\n",
      "state is 5, GOAL!!\n"
     ]
    }
   ],
   "source": [
    "QL = QLearning()\n",
    "QL.learn()\n",
    "\n",
    "QL.dumpQvalue()\n",
    "\n",
    "for s in range(R.shape[0]-1):\n",
    "    QL.runGreedy(s)"
   ]
  },
  {
   "cell_type": "code",
   "execution_count": 8,
   "metadata": {},
   "outputs": [
    {
     "data": {
      "text/plain": [
       "array([0, 3, 5], dtype=int64)"
      ]
     },
     "execution_count": 8,
     "metadata": {},
     "output_type": "execute_result"
    }
   ],
   "source": [
    "R = np.array([\n",
    "[-1, -1, -1, -1,  0,  -1],\n",
    "[-1, -1, -1,  0, -1, 100],\n",
    "[-1, -1, -1,  0, -1,  -1],\n",
    "[-1,  0,  0, -1,  0,  -1],\n",
    "[ 0, -1, -1,  0, -1, 100],\n",
    "[-1,  0, -1, -1,  0, 100]\n",
    "])\n",
    "list(np.where(np.array(R[4] != -1)))[0]"
   ]
  },
  {
   "cell_type": "code",
   "execution_count": 9,
   "metadata": {},
   "outputs": [
    {
     "data": {
      "text/plain": [
       "array([ True, False, False,  True, False,  True], dtype=bool)"
      ]
     },
     "execution_count": 9,
     "metadata": {},
     "output_type": "execute_result"
    }
   ],
   "source": [
    "np.array(R[4] != -1)"
   ]
  },
  {
   "cell_type": "code",
   "execution_count": 11,
   "metadata": {},
   "outputs": [
    {
     "data": {
      "text/plain": [
       "(array([0, 3, 5], dtype=int64),)"
      ]
     },
     "execution_count": 11,
     "metadata": {},
     "output_type": "execute_result"
    }
   ],
   "source": [
    "np.where(np.array(R[4] != -1))"
   ]
  },
  {
   "cell_type": "code",
   "execution_count": null,
   "metadata": {
    "collapsed": true
   },
   "outputs": [],
   "source": []
  },
  {
   "cell_type": "markdown",
   "metadata": {},
   "source": [
    "http://d.hatena.ne.jp/Kshi_Kshi/20111227/1324993576"
   ]
  },
  {
   "cell_type": "code",
   "execution_count": null,
   "metadata": {
    "collapsed": true
   },
   "outputs": [],
   "source": []
  }
 ],
 "metadata": {
  "kernelspec": {
   "display_name": "cralybot",
   "language": "python",
   "name": "cralybot"
  },
  "language_info": {
   "codemirror_mode": {
    "name": "ipython",
    "version": 3
   },
   "file_extension": ".py",
   "mimetype": "text/x-python",
   "name": "python",
   "nbconvert_exporter": "python",
   "pygments_lexer": "ipython3",
   "version": "3.6.1"
  }
 },
 "nbformat": 4,
 "nbformat_minor": 2
}
