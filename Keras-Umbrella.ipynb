{
 "cells": [
  {
   "cell_type": "markdown",
   "metadata": {},
   "source": [
    "参考：<a href=\"https://qiita.com/inoory/items/e63ade6f21766c7c2393\">[Python] Keras-RLで簡単に強化学習(DQN)を試す</a>"
   ]
  },
  {
   "cell_type": "markdown",
   "metadata": {},
   "source": [
    "### CSVファイルからデータを読み込む"
   ]
  },
  {
   "cell_type": "code",
   "execution_count": 13,
   "metadata": {},
   "outputs": [
    {
     "name": "stdout",
     "output_type": "stream",
     "text": [
      "data loaded 7319\n"
     ]
    }
   ],
   "source": [
    "#ライブラリーを読み込む\n",
    "import pandas as pd\n",
    "pd.set_option('precision', 2)\n",
    "\n",
    "import numpy as np\n",
    "import matplotlib.pyplot as plt\n",
    "%matplotlib inline\n",
    "\n",
    "import datetime\n",
    "\n",
    "# データの読込と表示\n",
    "df_orig = pd.read_csv(\n",
    "    \"17_preprocessed.csv\",\n",
    "    sep=\",\" ,\n",
    "    skiprows = 1,\n",
    "    header= 1,\n",
    "    encoding = \"Shift_JISx0213\").set_index(\"年月日時\")\n",
    "df_orig.head()            # 統計量の表示\n",
    "\n",
    "df_orig = df_orig[24 * 30:-24*30] # 冬は雨ではなく雪のため除く\n",
    "\n",
    "print(\"data loaded\", len(df_orig))"
   ]
  },
  {
   "cell_type": "markdown",
   "metadata": {},
   "source": [
    "### データを標準化する"
   ]
  },
  {
   "cell_type": "code",
   "execution_count": 2,
   "metadata": {},
   "outputs": [
    {
     "data": {
      "text/html": [
       "<div>\n",
       "<style>\n",
       "    .dataframe thead tr:only-child th {\n",
       "        text-align: right;\n",
       "    }\n",
       "\n",
       "    .dataframe thead th {\n",
       "        text-align: left;\n",
       "    }\n",
       "\n",
       "    .dataframe tbody tr th {\n",
       "        vertical-align: top;\n",
       "    }\n",
       "</style>\n",
       "<table border=\"1\" class=\"dataframe\">\n",
       "  <thead>\n",
       "    <tr style=\"text-align: right;\">\n",
       "      <th></th>\n",
       "      <th>気温(℃)</th>\n",
       "      <th>降水量(mm)</th>\n",
       "      <th>降雪(cm)</th>\n",
       "      <th>積雪(cm)</th>\n",
       "      <th>日照時間(時間)</th>\n",
       "      <th>風速(m/s)</th>\n",
       "      <th>風向</th>\n",
       "      <th>露点温度(℃)</th>\n",
       "      <th>蒸気圧(hPa)</th>\n",
       "      <th>相対湿度(％)</th>\n",
       "      <th>海面気圧(hPa)</th>\n",
       "      <th>現地気圧(hPa)</th>\n",
       "      <th>日射量(MJ/㎡)</th>\n",
       "      <th>天気</th>\n",
       "      <th>視程(km)</th>\n",
       "      <th>雲量(10分比)</th>\n",
       "    </tr>\n",
       "    <tr>\n",
       "      <th>年月日時</th>\n",
       "      <th></th>\n",
       "      <th></th>\n",
       "      <th></th>\n",
       "      <th></th>\n",
       "      <th></th>\n",
       "      <th></th>\n",
       "      <th></th>\n",
       "      <th></th>\n",
       "      <th></th>\n",
       "      <th></th>\n",
       "      <th></th>\n",
       "      <th></th>\n",
       "      <th></th>\n",
       "      <th></th>\n",
       "      <th></th>\n",
       "      <th></th>\n",
       "    </tr>\n",
       "  </thead>\n",
       "  <tbody>\n",
       "    <tr>\n",
       "      <th>2017/1/31 1:00</th>\n",
       "      <td>-1.70</td>\n",
       "      <td>-0.14</td>\n",
       "      <td>-0.07</td>\n",
       "      <td>4.99</td>\n",
       "      <td>-0.61</td>\n",
       "      <td>-0.39</td>\n",
       "      <td>-1.03</td>\n",
       "      <td>-1.34</td>\n",
       "      <td>-1.14</td>\n",
       "      <td>0.99</td>\n",
       "      <td>0.57</td>\n",
       "      <td>0.18</td>\n",
       "      <td>-0.68</td>\n",
       "      <td>2.48</td>\n",
       "      <td>-2.02</td>\n",
       "      <td>0.72</td>\n",
       "    </tr>\n",
       "    <tr>\n",
       "      <th>2017/1/31 2:00</th>\n",
       "      <td>-1.70</td>\n",
       "      <td>-0.14</td>\n",
       "      <td>8.51</td>\n",
       "      <td>5.39</td>\n",
       "      <td>-0.61</td>\n",
       "      <td>0.34</td>\n",
       "      <td>-1.46</td>\n",
       "      <td>-1.47</td>\n",
       "      <td>-1.19</td>\n",
       "      <td>0.52</td>\n",
       "      <td>0.69</td>\n",
       "      <td>0.33</td>\n",
       "      <td>-0.68</td>\n",
       "      <td>2.48</td>\n",
       "      <td>-2.02</td>\n",
       "      <td>0.72</td>\n",
       "    </tr>\n",
       "    <tr>\n",
       "      <th>2017/1/31 3:00</th>\n",
       "      <td>-1.66</td>\n",
       "      <td>-0.14</td>\n",
       "      <td>-0.07</td>\n",
       "      <td>4.99</td>\n",
       "      <td>-0.61</td>\n",
       "      <td>1.19</td>\n",
       "      <td>1.71</td>\n",
       "      <td>-1.81</td>\n",
       "      <td>-1.33</td>\n",
       "      <td>-0.59</td>\n",
       "      <td>0.86</td>\n",
       "      <td>0.51</td>\n",
       "      <td>-0.68</td>\n",
       "      <td>2.48</td>\n",
       "      <td>-0.47</td>\n",
       "      <td>0.72</td>\n",
       "    </tr>\n",
       "    <tr>\n",
       "      <th>2017/1/31 4:00</th>\n",
       "      <td>-1.89</td>\n",
       "      <td>-0.14</td>\n",
       "      <td>-0.07</td>\n",
       "      <td>4.99</td>\n",
       "      <td>-0.61</td>\n",
       "      <td>0.12</td>\n",
       "      <td>-0.82</td>\n",
       "      <td>-1.62</td>\n",
       "      <td>-1.26</td>\n",
       "      <td>0.64</td>\n",
       "      <td>1.06</td>\n",
       "      <td>0.67</td>\n",
       "      <td>-0.68</td>\n",
       "      <td>2.48</td>\n",
       "      <td>-0.47</td>\n",
       "      <td>0.72</td>\n",
       "    </tr>\n",
       "    <tr>\n",
       "      <th>2017/1/31 5:00</th>\n",
       "      <td>-1.89</td>\n",
       "      <td>-0.14</td>\n",
       "      <td>-0.07</td>\n",
       "      <td>4.99</td>\n",
       "      <td>-0.61</td>\n",
       "      <td>2.27</td>\n",
       "      <td>-0.61</td>\n",
       "      <td>-1.62</td>\n",
       "      <td>-1.26</td>\n",
       "      <td>0.64</td>\n",
       "      <td>1.19</td>\n",
       "      <td>0.83</td>\n",
       "      <td>-0.68</td>\n",
       "      <td>2.48</td>\n",
       "      <td>-0.47</td>\n",
       "      <td>0.72</td>\n",
       "    </tr>\n",
       "  </tbody>\n",
       "</table>\n",
       "</div>"
      ],
      "text/plain": [
       "                気温(℃)  降水量(mm)  降雪(cm)  積雪(cm)  日照時間(時間)  風速(m/s)    風向  \\\n",
       "年月日時                                                                      \n",
       "2017/1/31 1:00  -1.70    -0.14   -0.07    4.99     -0.61    -0.39 -1.03   \n",
       "2017/1/31 2:00  -1.70    -0.14    8.51    5.39     -0.61     0.34 -1.46   \n",
       "2017/1/31 3:00  -1.66    -0.14   -0.07    4.99     -0.61     1.19  1.71   \n",
       "2017/1/31 4:00  -1.89    -0.14   -0.07    4.99     -0.61     0.12 -0.82   \n",
       "2017/1/31 5:00  -1.89    -0.14   -0.07    4.99     -0.61     2.27 -0.61   \n",
       "\n",
       "                露点温度(℃)  蒸気圧(hPa)  相対湿度(％)  海面気圧(hPa)  現地気圧(hPa)  日射量(MJ/㎡)  \\\n",
       "年月日時                                                                          \n",
       "2017/1/31 1:00    -1.34     -1.14     0.99       0.57       0.18      -0.68   \n",
       "2017/1/31 2:00    -1.47     -1.19     0.52       0.69       0.33      -0.68   \n",
       "2017/1/31 3:00    -1.81     -1.33    -0.59       0.86       0.51      -0.68   \n",
       "2017/1/31 4:00    -1.62     -1.26     0.64       1.06       0.67      -0.68   \n",
       "2017/1/31 5:00    -1.62     -1.26     0.64       1.19       0.83      -0.68   \n",
       "\n",
       "                  天気  視程(km)  雲量(10分比)  \n",
       "年月日時                                    \n",
       "2017/1/31 1:00  2.48   -2.02      0.72  \n",
       "2017/1/31 2:00  2.48   -2.02      0.72  \n",
       "2017/1/31 3:00  2.48   -0.47      0.72  \n",
       "2017/1/31 4:00  2.48   -0.47      0.72  \n",
       "2017/1/31 5:00  2.48   -0.47      0.72  "
      ]
     },
     "execution_count": 2,
     "metadata": {},
     "output_type": "execute_result"
    }
   ],
   "source": [
    "df =  (df_orig - df_orig.mean()) / (df_orig.std())\n",
    "df.head()"
   ]
  },
  {
   "cell_type": "code",
   "execution_count": 5,
   "metadata": {},
   "outputs": [
    {
     "data": {
      "text/html": [
       "<div>\n",
       "<style>\n",
       "    .dataframe thead tr:only-child th {\n",
       "        text-align: right;\n",
       "    }\n",
       "\n",
       "    .dataframe thead th {\n",
       "        text-align: left;\n",
       "    }\n",
       "\n",
       "    .dataframe tbody tr th {\n",
       "        vertical-align: top;\n",
       "    }\n",
       "</style>\n",
       "<table border=\"1\" class=\"dataframe\">\n",
       "  <thead>\n",
       "    <tr style=\"text-align: right;\">\n",
       "      <th></th>\n",
       "      <th>降水量(mm)</th>\n",
       "    </tr>\n",
       "  </thead>\n",
       "  <tbody>\n",
       "    <tr>\n",
       "      <th>気温(℃)</th>\n",
       "      <td>0.046919</td>\n",
       "    </tr>\n",
       "    <tr>\n",
       "      <th>降水量(mm)</th>\n",
       "      <td>1.000000</td>\n",
       "    </tr>\n",
       "    <tr>\n",
       "      <th>降雪(cm)</th>\n",
       "      <td>0.042667</td>\n",
       "    </tr>\n",
       "    <tr>\n",
       "      <th>積雪(cm)</th>\n",
       "      <td>-0.016431</td>\n",
       "    </tr>\n",
       "    <tr>\n",
       "      <th>日照時間(時間)</th>\n",
       "      <td>-0.082510</td>\n",
       "    </tr>\n",
       "    <tr>\n",
       "      <th>風速(m/s)</th>\n",
       "      <td>-0.004945</td>\n",
       "    </tr>\n",
       "    <tr>\n",
       "      <th>風向</th>\n",
       "      <td>-0.015147</td>\n",
       "    </tr>\n",
       "    <tr>\n",
       "      <th>露点温度(℃)</th>\n",
       "      <td>0.113077</td>\n",
       "    </tr>\n",
       "    <tr>\n",
       "      <th>蒸気圧(hPa)</th>\n",
       "      <td>0.124163</td>\n",
       "    </tr>\n",
       "    <tr>\n",
       "      <th>相対湿度(％)</th>\n",
       "      <td>0.167913</td>\n",
       "    </tr>\n",
       "    <tr>\n",
       "      <th>海面気圧(hPa)</th>\n",
       "      <td>-0.108103</td>\n",
       "    </tr>\n",
       "    <tr>\n",
       "      <th>現地気圧(hPa)</th>\n",
       "      <td>-0.107875</td>\n",
       "    </tr>\n",
       "    <tr>\n",
       "      <th>日射量(MJ/㎡)</th>\n",
       "      <td>-0.080282</td>\n",
       "    </tr>\n",
       "    <tr>\n",
       "      <th>天気</th>\n",
       "      <td>0.179307</td>\n",
       "    </tr>\n",
       "    <tr>\n",
       "      <th>視程(km)</th>\n",
       "      <td>-0.092218</td>\n",
       "    </tr>\n",
       "    <tr>\n",
       "      <th>雲量(10分比)</th>\n",
       "      <td>0.078836</td>\n",
       "    </tr>\n",
       "  </tbody>\n",
       "</table>\n",
       "</div>"
      ],
      "text/plain": [
       "            降水量(mm)\n",
       "気温(℃)      0.046919\n",
       "降水量(mm)    1.000000\n",
       "降雪(cm)     0.042667\n",
       "積雪(cm)    -0.016431\n",
       "日照時間(時間)  -0.082510\n",
       "風速(m/s)   -0.004945\n",
       "風向        -0.015147\n",
       "露点温度(℃)    0.113077\n",
       "蒸気圧(hPa)   0.124163\n",
       "相対湿度(％)    0.167913\n",
       "海面気圧(hPa) -0.108103\n",
       "現地気圧(hPa) -0.107875\n",
       "日射量(MJ/㎡) -0.080282\n",
       "天気         0.179307\n",
       "視程(km)    -0.092218\n",
       "雲量(10分比)   0.078836"
      ]
     },
     "execution_count": 5,
     "metadata": {},
     "output_type": "execute_result"
    }
   ],
   "source": [
    "pd.reset_option(\"display.precision\")\n",
    "pd.DataFrame(df.corr()[\"降水量(mm)\"])"
   ]
  },
  {
   "cell_type": "code",
   "execution_count": 6,
   "metadata": {
    "collapsed": true
   },
   "outputs": [],
   "source": [
    "TEST_DATA_LENGTH = 24 * 30  # 1か月分をテストデータとする\n",
    "df_test = df[:-TEST_DATA_LENGTH]"
   ]
  },
  {
   "cell_type": "code",
   "execution_count": 10,
   "metadata": {
    "collapsed": true
   },
   "outputs": [],
   "source": [
    "import gym\n",
    "import gym.spaces\n",
    "import numpy as np\n",
    "\n",
    "# 直線上を動く点の速度を操作し、目標(原点)に移動させることを目標とする環境\n",
    "class PointOnLine(gym.core.Env):\n",
    "    def __init__(self):\n",
    "        self.action_space = gym.spaces.Discrete(2) # 行動空間。傘をさす、ささない2種\n",
    "\n",
    "        # 観測空間(state)の次元 (位置と速度の2次元) とそれらの最大値・最小値\n",
    "        self.observation_space = gym.spaces.Box(low=np.array([min(x) for x in df.values.T]), high=np.array([max(x) for x in df.values.T]))\n",
    "        \n",
    "        self.index = 0\n",
    "\n",
    "    # 各stepごとに呼ばれる\n",
    "    # actionを受け取り、次のstateとreward、episodeが終了したかどうかを返すように実装\n",
    "    def _step(self, action):\n",
    "        \n",
    "        '''\n",
    "        # actionを受け取り、次のstateを決定\n",
    "        dt = 0.1\n",
    "        acc = (action - 1) * 0.1\n",
    "        self._vel += acc * dt\n",
    "        self._vel = max(-1.0,  min(self._vel, 1.0))\n",
    "        self._pos += self._vel * dt\n",
    "        self._pos = max(-1.0,  min(self._pos, 1.0))\n",
    "\n",
    "        # 位置と速度の絶対値が十分小さくなったらepisode終了\n",
    "        done = abs(self._pos) < 0.1 and abs(self._vel) < 0.1\n",
    "        '''\n",
    "        done = self.index >= (len(df_test) - 30)\n",
    "        \n",
    "        # 雨が降ったかどうか\n",
    "        is_rain = df_test[\"降水量(mm)\"].values[self.index] > 0.1\n",
    "        is_umbrella = (action == 1)\n",
    "        \n",
    "        if is_rain:  # 雨が降っていいる\n",
    "            if is_umbrella:   # 傘をさした\n",
    "                reward = 10\n",
    "            else:   # 傘をささなかった\n",
    "                reward = -10\n",
    "        else:  # 晴れている\n",
    "            if is_umbrella:  # 傘をさした\n",
    "                reward = -1\n",
    "            else:  # 傘をささなかった\n",
    "                reward = 0\n",
    "                \n",
    "        self.index = self.index + 1\n",
    "\n",
    "        # 次のstate、reward、終了したかどうか、追加情報の順に返す\n",
    "        # 追加情報は特にないので空dict\n",
    "        return df_test.values[self.index+1], reward, done, {}\n",
    "\n",
    "    # 各episodeの開始時に呼ばれ、初期stateを返すように実装\n",
    "    def _reset(self):\n",
    "        \n",
    "        self.index = 0\n",
    "        \n",
    "        return np.array(df_test.values[0])"
   ]
  },
  {
   "cell_type": "code",
   "execution_count": 11,
   "metadata": {
    "scrolled": false
   },
   "outputs": [
    {
     "name": "stdout",
     "output_type": "stream",
     "text": [
      "_________________________________________________________________\n",
      "Layer (type)                 Output Shape              Param #   \n",
      "=================================================================\n",
      "flatten_2 (Flatten)          (None, 16)                0         \n",
      "_________________________________________________________________\n",
      "dense_5 (Dense)              (None, 16)                272       \n",
      "_________________________________________________________________\n",
      "activation_5 (Activation)    (None, 16)                0         \n",
      "_________________________________________________________________\n",
      "dense_6 (Dense)              (None, 16)                272       \n",
      "_________________________________________________________________\n",
      "activation_6 (Activation)    (None, 16)                0         \n",
      "_________________________________________________________________\n",
      "dense_7 (Dense)              (None, 16)                272       \n",
      "_________________________________________________________________\n",
      "activation_7 (Activation)    (None, 16)                0         \n",
      "_________________________________________________________________\n",
      "dense_8 (Dense)              (None, 2)                 34        \n",
      "_________________________________________________________________\n",
      "activation_8 (Activation)    (None, 2)                 0         \n",
      "=================================================================\n",
      "Total params: 850\n",
      "Trainable params: 850\n",
      "Non-trainable params: 0\n",
      "_________________________________________________________________\n",
      "None\n",
      "Training for 5000 steps ...\n",
      "  300/5000: episode: 1, duration: 1.830s, episode steps: 300, steps per second: 164, episode reward: -145.000, mean reward: -0.483 [-10.000, 10.000], mean action: 0.417 [0.000, 1.000], mean observation: 0.013 [-2.983, 25.653], loss: 2.087097, mean_absolute_error: 0.862361, mean_q: -0.451051\n",
      "  600/5000: episode: 2, duration: 0.940s, episode steps: 300, steps per second: 319, episode reward: 116.000, mean reward: 0.387 [-10.000, 10.000], mean action: 0.387 [0.000, 1.000], mean observation: 0.013 [-2.983, 25.653], loss: 2.549582, mean_absolute_error: 1.257401, mean_q: 0.063485\n",
      "  900/5000: episode: 3, duration: 0.874s, episode steps: 300, steps per second: 343, episode reward: 115.000, mean reward: 0.383 [-10.000, 10.000], mean action: 0.320 [0.000, 1.000], mean observation: 0.013 [-2.983, 25.653], loss: 3.098035, mean_absolute_error: 1.256708, mean_q: 1.522523\n",
      " 1200/5000: episode: 4, duration: 0.878s, episode steps: 300, steps per second: 342, episode reward: 132.000, mean reward: 0.440 [-10.000, 10.000], mean action: 0.333 [0.000, 1.000], mean observation: 0.013 [-2.983, 25.653], loss: 4.038950, mean_absolute_error: 1.862638, mean_q: 3.106342\n",
      " 1500/5000: episode: 5, duration: 0.926s, episode steps: 300, steps per second: 324, episode reward: 147.000, mean reward: 0.490 [-10.000, 10.000], mean action: 0.283 [0.000, 1.000], mean observation: 0.013 [-2.983, 25.653], loss: 5.519306, mean_absolute_error: 2.807665, mean_q: 4.927957\n",
      " 1800/5000: episode: 6, duration: 0.868s, episode steps: 300, steps per second: 346, episode reward: 100.000, mean reward: 0.333 [-10.000, 10.000], mean action: 0.230 [0.000, 1.000], mean observation: 0.013 [-2.983, 25.653], loss: 6.111072, mean_absolute_error: 3.559747, mean_q: 6.564137\n",
      " 2100/5000: episode: 7, duration: 0.919s, episode steps: 300, steps per second: 326, episode reward: 153.000, mean reward: 0.510 [-10.000, 10.000], mean action: 0.263 [0.000, 1.000], mean observation: 0.013 [-2.983, 25.653], loss: 7.103470, mean_absolute_error: 4.355846, mean_q: 8.097362\n",
      " 2400/5000: episode: 8, duration: 0.925s, episode steps: 300, steps per second: 324, episode reward: 153.000, mean reward: 0.510 [-10.000, 10.000], mean action: 0.263 [0.000, 1.000], mean observation: 0.013 [-2.983, 25.653], loss: 7.246152, mean_absolute_error: 5.140292, mean_q: 9.764229\n",
      " 2700/5000: episode: 9, duration: 0.863s, episode steps: 300, steps per second: 348, episode reward: 94.000, mean reward: 0.313 [-10.000, 10.000], mean action: 0.320 [0.000, 1.000], mean observation: 0.013 [-2.983, 25.653], loss: 6.746299, mean_absolute_error: 5.907045, mean_q: 11.255766\n",
      " 3000/5000: episode: 10, duration: 0.863s, episode steps: 300, steps per second: 348, episode reward: 150.000, mean reward: 0.500 [-10.000, 10.000], mean action: 0.273 [0.000, 1.000], mean observation: 0.013 [-2.983, 25.653], loss: 6.295978, mean_absolute_error: 6.406767, mean_q: 12.257378\n",
      " 3300/5000: episode: 11, duration: 0.860s, episode steps: 300, steps per second: 349, episode reward: 159.000, mean reward: 0.530 [-10.000, 10.000], mean action: 0.243 [0.000, 1.000], mean observation: 0.013 [-2.983, 25.653], loss: 5.586283, mean_absolute_error: 6.757569, mean_q: 13.446674\n",
      " 3600/5000: episode: 12, duration: 0.864s, episode steps: 300, steps per second: 347, episode reward: 89.000, mean reward: 0.297 [-10.000, 10.000], mean action: 0.267 [0.000, 1.000], mean observation: 0.013 [-2.983, 25.653], loss: 5.004789, mean_absolute_error: 7.406777, mean_q: 14.621504\n",
      " 3900/5000: episode: 13, duration: 0.900s, episode steps: 300, steps per second: 333, episode reward: 105.000, mean reward: 0.350 [-10.000, 10.000], mean action: 0.353 [0.000, 1.000], mean observation: 0.013 [-2.983, 25.653], loss: 4.815992, mean_absolute_error: 7.977531, mean_q: 15.813431\n",
      " 4200/5000: episode: 14, duration: 0.849s, episode steps: 300, steps per second: 353, episode reward: 129.000, mean reward: 0.430 [-10.000, 10.000], mean action: 0.343 [0.000, 1.000], mean observation: 0.013 [-2.983, 25.653], loss: 4.597497, mean_absolute_error: 8.607174, mean_q: 17.307943\n",
      " 4500/5000: episode: 15, duration: 0.949s, episode steps: 300, steps per second: 316, episode reward: 81.000, mean reward: 0.270 [-10.000, 10.000], mean action: 0.293 [0.000, 1.000], mean observation: 0.013 [-2.983, 25.653], loss: 4.776103, mean_absolute_error: 9.066475, mean_q: 18.289978\n",
      " 4800/5000: episode: 16, duration: 0.895s, episode steps: 300, steps per second: 335, episode reward: 115.000, mean reward: 0.383 [-10.000, 10.000], mean action: 0.390 [0.000, 1.000], mean observation: 0.013 [-2.983, 25.653], loss: 5.110525, mean_absolute_error: 9.873782, mean_q: 19.904873\n",
      "done, took 15.798 seconds\n"
     ]
    }
   ],
   "source": [
    "from keras.models import Sequential\n",
    "from keras.layers import Dense, Activation, Flatten\n",
    "from keras.optimizers import Adam\n",
    "\n",
    "from rl.agents.dqn import DQNAgent\n",
    "from rl.policy import EpsGreedyQPolicy\n",
    "from rl.memory import SequentialMemory\n",
    "\n",
    "env = PointOnLine()\n",
    "nb_actions = env.action_space.n\n",
    "\n",
    "# DQNのネットワーク定義\n",
    "model = Sequential()\n",
    "model.add(Flatten(input_shape=(1,) + env.observation_space.shape))\n",
    "model.add(Dense(16))\n",
    "model.add(Activation('relu'))\n",
    "model.add(Dense(16))\n",
    "model.add(Activation('relu'))\n",
    "model.add(Dense(16))\n",
    "model.add(Activation('relu'))\n",
    "model.add(Dense(nb_actions))\n",
    "model.add(Activation('linear'))\n",
    "print(model.summary())\n",
    "\n",
    "# experience replay用のmemory\n",
    "memory = SequentialMemory(limit=5000, window_length=1)\n",
    "# 行動方策はオーソドックスなepsilon-greedy。ほかに、各行動のQ値によって確率を決定するBoltzmannQPolicyが利用可能\n",
    "policy = EpsGreedyQPolicy(eps=0.1) \n",
    "dqn = DQNAgent(model=model, nb_actions=nb_actions, memory=memory, nb_steps_warmup=100,\n",
    "               target_model_update=1e-2, policy=policy)\n",
    "dqn.compile(Adam(lr=1e-3), metrics=['mae'])\n",
    "\n",
    "history = dqn.fit(env, nb_steps=5000, visualize=False, verbose=2, nb_max_episode_steps=300)\n",
    "#学習の様子を描画したいときは、Envに_render()を実装して、visualize=True にします,"
   ]
  },
  {
   "cell_type": "code",
   "execution_count": 24,
   "metadata": {
    "scrolled": false,
    "slideshow": {
     "slide_type": "slide"
    }
   },
   "outputs": [
    {
     "name": "stdout",
     "output_type": "stream",
     "text": [
      "Testing for 1 episodes ...\n",
      "Episode 1: reward: 1695.000, steps: 6570\n"
     ]
    },
    {
     "data": {
      "text/plain": [
       "<matplotlib.text.Text at 0x1a8dc1b4a90>"
      ]
     },
     "execution_count": 24,
     "metadata": {},
     "output_type": "execute_result"
    },
    {
     "data": {
      "image/png": "[encoded data removed]",
      "text/plain": [
       "<matplotlib.figure.Figure at 0x1a8dbeb2e48>"
      ]
     },
     "metadata": {},
     "output_type": "display_data"
    }
   ],
   "source": [
    "import rl.callbacks\n",
    "class EpisodeLogger(rl.callbacks.Callback):\n",
    "    def __init__(self):\n",
    "        self.observations = {}\n",
    "        self.rewards = {}\n",
    "        self.actions = {}\n",
    "\n",
    "    def on_episode_begin(self, episode, logs):\n",
    "        self.observations[episode] = []\n",
    "        self.rewards[episode] = []\n",
    "        self.actions[episode] = []\n",
    "\n",
    "    def on_step_end(self, step, logs):\n",
    "        episode = logs['episode']\n",
    "        self.observations[episode].append(logs['observation'])\n",
    "        self.rewards[episode].append(logs['reward'])\n",
    "        self.actions[episode].append(logs['action'])\n",
    "\n",
    "cb_ep = EpisodeLogger()\n",
    "dqn.test(env, nb_episodes=1, visualize=False, callbacks=[cb_ep])\n",
    "\n",
    "\n",
    "%matplotlib inline\n",
    "import matplotlib.pyplot as plt\n",
    "\n",
    "for obs in cb_ep.observations.values():\n",
    "    plt.plot([o[0] for o in obs])\n",
    "plt.xlabel(\"step\")\n",
    "plt.ylabel(\"pos\")"
   ]
  },
  {
   "cell_type": "code",
   "execution_count": 19,
   "metadata": {},
   "outputs": [
    {
     "name": "stdout",
     "output_type": "stream",
     "text": [
      "0\n"
     ]
    }
   ],
   "source": [
    "for k in cb_ep.observations.keys():\n",
    "    print(k)"
   ]
  },
  {
   "cell_type": "code",
   "execution_count": 21,
   "metadata": {
    "scrolled": true
   },
   "outputs": [
    {
     "data": {
      "text/plain": [
       "6570"
      ]
     },
     "execution_count": 21,
     "metadata": {},
     "output_type": "execute_result"
    }
   ],
   "source": [
    "cb_ep.observations[0]"
   ]
  },
  {
   "cell_type": "code",
   "execution_count": 22,
   "metadata": {},
   "outputs": [
    {
     "data": {
      "text/plain": [
       "array([-1.66101637, -0.13585566, -0.06559412,  4.98813894, -0.61185322,\n",
       "        1.19454863,  1.70806972, -1.80691019, -1.32861987, -0.58916526,\n",
       "        0.85636892,  0.51493021, -0.68093485,  2.48057732, -0.46757026,\n",
       "        0.71841909])"
      ]
     },
     "execution_count": 22,
     "metadata": {},
     "output_type": "execute_result"
    }
   ],
   "source": [
    "cb_ep.observations[0][0]"
   ]
  },
  {
   "cell_type": "code",
   "execution_count": null,
   "metadata": {
    "collapsed": true
   },
   "outputs": [],
   "source": []
  }
 ],
 "metadata": {
  "kernelspec": {
   "display_name": "cralybot",
   "language": "python",
   "name": "cralybot"
  },
  "language_info": {
   "codemirror_mode": {
    "name": "ipython",
    "version": 3
   },
   "file_extension": ".py",
   "mimetype": "text/x-python",
   "name": "python",
   "nbconvert_exporter": "python",
   "pygments_lexer": "ipython3",
   "version": "3.6.1"
  }
 },
 "nbformat": 4,
 "nbformat_minor": 2
}
